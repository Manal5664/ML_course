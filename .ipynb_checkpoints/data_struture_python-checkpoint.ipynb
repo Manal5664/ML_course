{
 "cells": [
  {
   "cell_type": "code",
   "execution_count": 1,
   "id": "218bf379-7098-4a31-aafd-6f9ca196543c",
   "metadata": {},
   "outputs": [
    {
     "name": "stdout",
     "output_type": "stream",
     "text": [
      "Presentation created successfully!\n"
     ]
    }
   ],
   "source": [
    "from pptx import Presentation\n",
    "\n",
    "# Create a presentation object\n",
    "prs = Presentation()\n",
    "\n",
    "# Layouts\n",
    "title_slide_layout = prs.slide_layouts[0]\n",
    "content_slide_layout = prs.slide_layouts[1]\n",
    "\n",
    "# Title Slide\n",
    "slide = prs.slides.add_slide(title_slide_layout)\n",
    "slide.shapes.title.text = \"Python Built-in Data Structures\"\n",
    "slide.placeholders[1].text = \"Prepared by Manal Asghar\"\n",
    "\n",
    "# Slide: Introduction\n",
    "slide = prs.slides.add_slide(content_slide_layout)\n",
    "slide.shapes.title.text = \"What are Data Structures in Python?\"\n",
    "tf = slide.placeholders[1].text_frame\n",
    "tf.text = (\"Python provides built-in data structures \"\n",
    "           \"that help organize and store data efficiently. \"\n",
    "           \"Common types include lists, dictionaries, sets, and tuples.\")\n",
    "\n",
    "# Slide: List\n",
    "slide = prs.slides.add_slide(content_slide_layout)\n",
    "slide.shapes.title.text = \"List\"\n",
    "tf = slide.placeholders[1].text_frame\n",
    "points = [\n",
    "    \"Ordered, mutable collection of elements.\",\n",
    "    \"Allows duplicate elements.\",\n",
    "    \"Defined using square brackets: e.g., [1, 2, 3].\",\n",
    "    \"Supports indexing, slicing, and various methods like append(), remove(), sort().\"\n",
    "]\n",
    "tf.text = points[0]\n",
    "for pt in points[1:]:\n",
    "    p = tf.add_paragraph()\n",
    "    p.text = pt\n",
    "    p.level = 1\n",
    "\n",
    "# Slide: Dictionary\n",
    "slide = prs.slides.add_slide(content_slide_layout)\n",
    "slide.shapes.title.text = \"Dictionary\"\n",
    "tf = slide.placeholders[1].text_frame\n",
    "points = [\n",
    "    \"Unordered, mutable collection of key-value pairs.\",\n",
    "    \"Keys must be unique and immutable.\",\n",
    "    \"Defined using curly braces: e.g., {'key': 'value'}.\",\n",
    "    \"Supports fast lookup, insertion, and deletion.\"\n",
    "]\n",
    "tf.text = points[0]\n",
    "for pt in points[1:]:\n",
    "    p = tf.add_paragraph()\n",
    "    p.text = pt\n",
    "    p.level = 1\n",
    "\n",
    "# Slide: Set\n",
    "slide = prs.slides.add_slide(content_slide_layout)\n",
    "slide.shapes.title.text = \"Set\"\n",
    "tf = slide.placeholders[1].text_frame\n",
    "points = [\n",
    "    \"Unordered collection of unique elements.\",\n",
    "    \"Mutable but elements must be immutable.\",\n",
    "    \"Defined using curly braces or set(): e.g., {1, 2, 3} or set([1,2]).\",\n",
    "    \"Supports operations like union, intersection, difference.\"\n",
    "]\n",
    "tf.text = points[0]\n",
    "for pt in points[1:]:\n",
    "    p = tf.add_paragraph()\n",
    "    p.text = pt\n",
    "    p.level = 1\n",
    "\n",
    "# Slide: Tuple\n",
    "slide = prs.slides.add_slide(content_slide_layout)\n",
    "slide.shapes.title.text = \"Tuple\"\n",
    "tf = slide.placeholders[1].text_frame\n",
    "points = [\n",
    "    \"Ordered, immutable collection of elements.\",\n",
    "    \"Allows duplicate elements.\",\n",
    "    \"Defined using parentheses: e.g., (1, 2, 3).\",\n",
    "    \"Useful for fixed data and as dictionary keys.\"\n",
    "]\n",
    "tf.text = points[0]\n",
    "for pt in points[1:]:\n",
    "    p = tf.add_paragraph()\n",
    "    p.text = pt\n",
    "    p.level = 1\n",
    "\n",
    "# Slide: Summary\n",
    "slide = prs.slides.add_slide(content_slide_layout)\n",
    "slide.shapes.title.text = \"Summary\"\n",
    "tf = slide.placeholders[1].text_frame\n",
    "tf.text = (\n",
    "    \"• Lists: Ordered, mutable, allows duplicates.\\n\"\n",
    "    \"• Dictionaries: Key-value pairs, mutable, keys unique.\\n\"\n",
    "    \"• Sets: Unordered, mutable, unique elements.\\n\"\n",
    "    \"• Tuples: Ordered, immutable, allows duplicates.\"\n",
    ")\n",
    "\n",
    "# Save presentation\n",
    "prs.save(\"Python_Data_Structures.pptx\")\n",
    "print(\"Presentation created successfully!\")\n"
   ]
  },
  {
   "cell_type": "code",
   "execution_count": 3,
   "id": "80127f8a-d624-4d72-8d1c-9b6ffb2757ae",
   "metadata": {},
   "outputs": [
    {
     "name": "stdout",
     "output_type": "stream",
     "text": [
      "['Apple', 'Banana', 'Cherry']\n"
     ]
    }
   ],
   "source": [
    "fruits=['Apple', 'Banana', 'Cherry']\n",
    "print(fruits)"
   ]
  },
  {
   "cell_type": "code",
   "execution_count": 5,
   "id": "159af6b8-78b0-48db-ae62-f09117810ec1",
   "metadata": {},
   "outputs": [
    {
     "name": "stdout",
     "output_type": "stream",
     "text": [
      "Banana\n"
     ]
    }
   ],
   "source": [
    "# access single item from list\n",
    "fruits=['Apple', 'Banana', 'Cherry']\n",
    "print(fruits[1])"
   ]
  },
  {
   "cell_type": "code",
   "execution_count": 8,
   "id": "cbe31d09-469e-42cf-9e46-6982462f0a94",
   "metadata": {},
   "outputs": [
    {
     "name": "stdout",
     "output_type": "stream",
     "text": [
      "['Apple', 'orange', 'Cherry']\n"
     ]
    }
   ],
   "source": [
    "# change item from list\n",
    "fruits=['Apple', 'Banana', 'Cherry']\n",
    "fruits[1]='orange'\n",
    "print(fruits)"
   ]
  },
  {
   "cell_type": "code",
   "execution_count": 9,
   "id": "fc9f7541-ec2d-4bc5-a7ec-4ece3b7ffc3f",
   "metadata": {},
   "outputs": [
    {
     "name": "stdout",
     "output_type": "stream",
     "text": [
      "['Apple', 'Banana', 'Cherry', 'orange']\n"
     ]
    }
   ],
   "source": [
    "# add in items from list in last\n",
    "fruits=['Apple', 'Banana', 'Cherry']\n",
    "fruits.append('orange')\n",
    "print(fruits)"
   ]
  },
  {
   "cell_type": "code",
   "execution_count": 11,
   "id": "091cc3a6-9389-43a7-a41d-66c743f193e4",
   "metadata": {},
   "outputs": [
    {
     "name": "stdout",
     "output_type": "stream",
     "text": [
      "['orange', 'Apple', 'Banana', 'Cherry']\n"
     ]
    }
   ],
   "source": [
    "# add in items from list in some index number\n",
    "fruits=['Apple', 'Banana', 'Cherry']\n",
    "fruits.insert(0,'orange')\n",
    "print(fruits)"
   ]
  },
  {
   "cell_type": "code",
   "execution_count": 14,
   "id": "900d88fc-693b-4459-9e89-4e7e24ce5fab",
   "metadata": {},
   "outputs": [
    {
     "name": "stdout",
     "output_type": "stream",
     "text": [
      "['Banana', 'Cherry']\n"
     ]
    }
   ],
   "source": [
    "# remove in items from list\n",
    "fruits=['Apple', 'Banana', 'Cherry']\n",
    "fruits.remove('Apple')\n",
    "print(fruits)"
   ]
  },
  {
   "cell_type": "code",
   "execution_count": 16,
   "id": "ac731153-a455-4700-960b-310997e27109",
   "metadata": {},
   "outputs": [
    {
     "name": "stdout",
     "output_type": "stream",
     "text": [
      "['Banana', 'Cherry']\n"
     ]
    }
   ],
   "source": [
    "# slicing in list\n",
    "fruits=['Apple', 'Banana', 'Cherry', 'orange']\n",
    "print(fruits[1:3])"
   ]
  },
  {
   "cell_type": "code",
   "execution_count": 19,
   "id": "86bdc95e-9c00-4281-a2a3-985413355038",
   "metadata": {},
   "outputs": [
    {
     "name": "stdout",
     "output_type": "stream",
     "text": [
      "Apple\n",
      "Banana\n",
      "Cherry\n",
      "orange\n"
     ]
    }
   ],
   "source": [
    "# looping in list\n",
    "fruits=['Apple', 'Banana', 'Cherry', 'orange']\n",
    "for fruits in fruits:\n",
    "    print (fruits)"
   ]
  },
  {
   "cell_type": "code",
   "execution_count": 24,
   "id": "f0e1e642-aef1-40e2-826e-a18040f70fe6",
   "metadata": {},
   "outputs": [
    {
     "name": "stdout",
     "output_type": "stream",
     "text": [
      "4\n"
     ]
    }
   ],
   "source": [
    "# nested list(list in list)\n",
    "matrix=[[1,2], [3,4]]\n",
    "print(matrix[1][1])"
   ]
  },
  {
   "cell_type": "code",
   "execution_count": 27,
   "id": "770a5250-93b4-48d1-be24-5b80e5446136",
   "metadata": {},
   "outputs": [
    {
     "name": "stdout",
     "output_type": "stream",
     "text": [
      "['Apple', 'Banana', 'Cherry']\n"
     ]
    }
   ],
   "source": [
    "# sort items from list\n",
    "fruits=['Apple','Cherry', 'Banana']\n",
    "fruits.sort()\n",
    "print(fruits)"
   ]
  },
  {
   "cell_type": "code",
   "execution_count": null,
   "id": "923ad2e3-905b-494a-b1bc-6a9534306e58",
   "metadata": {},
   "outputs": [],
   "source": []
  }
 ],
 "metadata": {
  "kernelspec": {
   "display_name": "Python 3 (ipykernel)",
   "language": "python",
   "name": "python3"
  },
  "language_info": {
   "codemirror_mode": {
    "name": "ipython",
    "version": 3
   },
   "file_extension": ".py",
   "mimetype": "text/x-python",
   "name": "python",
   "nbconvert_exporter": "python",
   "pygments_lexer": "ipython3",
   "version": "3.12.5"
  }
 },
 "nbformat": 4,
 "nbformat_minor": 5
}
