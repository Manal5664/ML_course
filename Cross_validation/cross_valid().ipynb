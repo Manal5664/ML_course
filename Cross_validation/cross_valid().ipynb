{
 "cells": [
  {
   "cell_type": "code",
   "execution_count": 1,
   "id": "3a488579-8486-4871-9aae-d080de7452b8",
   "metadata": {},
   "outputs": [],
   "source": [
    "import pandas as pd\n",
    "import os\n"
   ]
  },
  {
   "cell_type": "code",
   "execution_count": 2,
   "id": "1f3d74b5-8d75-4c20-b189-0a9a9a0b1faf",
   "metadata": {},
   "outputs": [
    {
     "name": "stdout",
     "output_type": "stream",
     "text": [
      "Downloading from https://www.kaggle.com/api/v1/datasets/download/parvmodi/cgpa-vs-package-in-lpa?dataset_version_number=1...\n"
     ]
    },
    {
     "name": "stderr",
     "output_type": "stream",
     "text": [
      "100%|██████████████████████████████████████████████████████████████████████████████| 0.98k/0.98k [00:00<00:00, 504kB/s]"
     ]
    },
    {
     "name": "stdout",
     "output_type": "stream",
     "text": [
      "Extracting files...\n",
      "Path to dataset files: C:\\Users\\smc\\.cache\\kagglehub\\datasets\\parvmodi\\cgpa-vs-package-in-lpa\\versions\\1\n"
     ]
    },
    {
     "name": "stderr",
     "output_type": "stream",
     "text": [
      "\n"
     ]
    }
   ],
   "source": [
    "import kagglehub\n",
    "\n",
    "# Download latest version\n",
    "path = kagglehub.dataset_download(\"parvmodi/cgpa-vs-package-in-lpa\")\n",
    "\n",
    "print(\"Path to dataset files:\", path)"
   ]
  },
  {
   "cell_type": "code",
   "execution_count": 3,
   "id": "cd1c45c9-7d5e-4c25-8856-4d97936049d5",
   "metadata": {},
   "outputs": [
    {
     "data": {
      "text/plain": [
       "['placement.csv']"
      ]
     },
     "execution_count": 3,
     "metadata": {},
     "output_type": "execute_result"
    }
   ],
   "source": [
    "file=os.listdir(path)\n",
    "file"
   ]
  },
  {
   "cell_type": "code",
   "execution_count": 5,
   "id": "25fc3e0d-cab1-4155-b326-3f1519825e71",
   "metadata": {},
   "outputs": [
    {
     "data": {
      "text/html": [
       "<div>\n",
       "<style scoped>\n",
       "    .dataframe tbody tr th:only-of-type {\n",
       "        vertical-align: middle;\n",
       "    }\n",
       "\n",
       "    .dataframe tbody tr th {\n",
       "        vertical-align: top;\n",
       "    }\n",
       "\n",
       "    .dataframe thead th {\n",
       "        text-align: right;\n",
       "    }\n",
       "</style>\n",
       "<table border=\"1\" class=\"dataframe\">\n",
       "  <thead>\n",
       "    <tr style=\"text-align: right;\">\n",
       "      <th></th>\n",
       "      <th>cgpa</th>\n",
       "      <th>package</th>\n",
       "    </tr>\n",
       "  </thead>\n",
       "  <tbody>\n",
       "    <tr>\n",
       "      <th>0</th>\n",
       "      <td>6.89</td>\n",
       "      <td>3.26</td>\n",
       "    </tr>\n",
       "    <tr>\n",
       "      <th>1</th>\n",
       "      <td>5.12</td>\n",
       "      <td>1.98</td>\n",
       "    </tr>\n",
       "    <tr>\n",
       "      <th>2</th>\n",
       "      <td>7.82</td>\n",
       "      <td>3.25</td>\n",
       "    </tr>\n",
       "    <tr>\n",
       "      <th>3</th>\n",
       "      <td>7.42</td>\n",
       "      <td>3.67</td>\n",
       "    </tr>\n",
       "    <tr>\n",
       "      <th>4</th>\n",
       "      <td>6.94</td>\n",
       "      <td>3.57</td>\n",
       "    </tr>\n",
       "  </tbody>\n",
       "</table>\n",
       "</div>"
      ],
      "text/plain": [
       "   cgpa  package\n",
       "0  6.89     3.26\n",
       "1  5.12     1.98\n",
       "2  7.82     3.25\n",
       "3  7.42     3.67\n",
       "4  6.94     3.57"
      ]
     },
     "execution_count": 5,
     "metadata": {},
     "output_type": "execute_result"
    }
   ],
   "source": [
    "df=pd.read_csv(os.path.join(path,'placement.csv'))\n",
    "df.head()"
   ]
  },
  {
   "cell_type": "code",
   "execution_count": 33,
   "id": "8c488096-45c2-445c-adbf-27914f770b94",
   "metadata": {},
   "outputs": [
    {
     "data": {
      "text/plain": [
       "2"
      ]
     },
     "execution_count": 33,
     "metadata": {},
     "output_type": "execute_result"
    }
   ],
   "source": [
    "x=df[['cgpa']]\n",
    "y=df['package']\n",
    "x.ndim"
   ]
  },
  {
   "cell_type": "code",
   "execution_count": 34,
   "id": "715dd4b0-145e-4173-8fda-72c1d501d42b",
   "metadata": {},
   "outputs": [],
   "source": [
    "from sklearn.linear_model import LinearRegression"
   ]
  },
  {
   "cell_type": "code",
   "execution_count": 35,
   "id": "856e21b5-dbf2-4728-8d60-1ff6ab016c4a",
   "metadata": {},
   "outputs": [],
   "source": [
    "from sklearn.model_selection import cross_val_score"
   ]
  },
  {
   "cell_type": "code",
   "execution_count": 49,
   "id": "6e8ed12b-087e-4bc6-90d8-d576d1dff1b0",
   "metadata": {},
   "outputs": [],
   "source": [
    "c=cross_val_score(LinearRegression(),x , y, cv=5)"
   ]
  },
  {
   "cell_type": "code",
   "execution_count": 50,
   "id": "f8d7699e-bbe5-4689-b03d-e0aff17f5125",
   "metadata": {},
   "outputs": [
    {
     "data": {
      "text/plain": [
       "array([70.88712673, 75.39804264, 75.68383749, 78.0867752 , 79.05176315])"
      ]
     },
     "execution_count": 50,
     "metadata": {},
     "output_type": "execute_result"
    }
   ],
   "source": [
    "c.sort()\n",
    "c*100"
   ]
  },
  {
   "cell_type": "code",
   "execution_count": 51,
   "id": "df294e4d-bb9e-4cd6-819d-dab9d2aac6de",
   "metadata": {},
   "outputs": [],
   "source": [
    "c=cross_val_score(LinearRegression(),x , y, cv=KFold(n_splits=10))\n"
   ]
  },
  {
   "cell_type": "code",
   "execution_count": 52,
   "id": "a90bd3c7-d8f8-4922-a093-9c5d658437b6",
   "metadata": {},
   "outputs": [
    {
     "data": {
      "text/plain": [
       "array([60.48000765, 65.67540106, 67.20523867, 69.890411  , 73.50599138,\n",
       "       74.37616704, 80.3181025 , 82.0986355 , 82.64799643, 83.96333567])"
      ]
     },
     "execution_count": 52,
     "metadata": {},
     "output_type": "execute_result"
    }
   ],
   "source": [
    "c.sort()\n",
    "c*100"
   ]
  },
  {
   "cell_type": "code",
   "execution_count": null,
   "id": "233ff9f1-f860-461e-ad99-a347b6023de3",
   "metadata": {},
   "outputs": [],
   "source": [
    "new_data=df.head(10)\n"
   ]
  },
  {
   "cell_type": "code",
   "execution_count": 13,
   "id": "3f2754e8-3fe7-4ebd-86a9-be0953f96a11",
   "metadata": {},
   "outputs": [],
   "source": [
    "x_n=new_data[['cgpa']]\n",
    "y_n=new_data['package']"
   ]
  },
  {
   "cell_type": "code",
   "execution_count": 14,
   "id": "04c755c7-90d7-4188-bdae-e4d3218003b6",
   "metadata": {},
   "outputs": [],
   "source": [
    "from sklearn.model_selection import LeaveOneOut, LeavePOut, KFold, StratifiedKFold"
   ]
  },
  {
   "cell_type": "markdown",
   "id": "6c6281ad-32d3-4cf0-8aea-4fbf783368d9",
   "metadata": {},
   "source": [
    "#  LeaveOneOut method Each time, train on all but 1 sample(remaing data), \n",
    "test (one data)on that 1 sample.\n",
    "\n",
    "Repeat for every data point."
   ]
  },
  {
   "cell_type": "code",
   "execution_count": 15,
   "id": "73bbb2bd-0d02-4c3d-b529-31bb81cca8aa",
   "metadata": {},
   "outputs": [
    {
     "name": "stdout",
     "output_type": "stream",
     "text": [
      "[1 2 3 4 5 6 7 8 9] [0]\n",
      "[0 2 3 4 5 6 7 8 9] [1]\n",
      "[0 1 3 4 5 6 7 8 9] [2]\n",
      "[0 1 2 4 5 6 7 8 9] [3]\n",
      "[0 1 2 3 5 6 7 8 9] [4]\n",
      "[0 1 2 3 4 6 7 8 9] [5]\n",
      "[0 1 2 3 4 5 7 8 9] [6]\n",
      "[0 1 2 3 4 5 6 8 9] [7]\n",
      "[0 1 2 3 4 5 6 7 9] [8]\n",
      "[0 1 2 3 4 5 6 7 8] [9]\n"
     ]
    }
   ],
   "source": [
    "lo=LeaveOneOut()\n",
    "for train, test in lo.split(x_n, y_n):\n",
    "    print(train, test)"
   ]
  },
  {
   "cell_type": "markdown",
   "id": "833a2e1a-5e40-4fd4-9904-771b4edd29bf",
   "metadata": {},
   "source": [
    "# Leave-P-Out Cross Validation\n",
    "eave P samples out as test set, train on the rest.\n",
    "\n",
    "Repeat for all combinations."
   ]
  },
  {
   "cell_type": "code",
   "execution_count": 22,
   "id": "0b7d9f03-417b-443d-a11f-63a2d11e186a",
   "metadata": {},
   "outputs": [
    {
     "name": "stdout",
     "output_type": "stream",
     "text": [
      "[3 4 5 6 7 8 9] [0 1 2]\n",
      "[2 4 5 6 7 8 9] [0 1 3]\n",
      "[2 3 5 6 7 8 9] [0 1 4]\n",
      "[2 3 4 6 7 8 9] [0 1 5]\n",
      "[2 3 4 5 7 8 9] [0 1 6]\n",
      "[2 3 4 5 6 8 9] [0 1 7]\n",
      "[2 3 4 5 6 7 9] [0 1 8]\n",
      "[2 3 4 5 6 7 8] [0 1 9]\n",
      "[1 4 5 6 7 8 9] [0 2 3]\n",
      "[1 3 5 6 7 8 9] [0 2 4]\n",
      "[1 3 4 6 7 8 9] [0 2 5]\n",
      "[1 3 4 5 7 8 9] [0 2 6]\n",
      "[1 3 4 5 6 8 9] [0 2 7]\n",
      "[1 3 4 5 6 7 9] [0 2 8]\n",
      "[1 3 4 5 6 7 8] [0 2 9]\n",
      "[1 2 5 6 7 8 9] [0 3 4]\n",
      "[1 2 4 6 7 8 9] [0 3 5]\n",
      "[1 2 4 5 7 8 9] [0 3 6]\n",
      "[1 2 4 5 6 8 9] [0 3 7]\n",
      "[1 2 4 5 6 7 9] [0 3 8]\n",
      "[1 2 4 5 6 7 8] [0 3 9]\n",
      "[1 2 3 6 7 8 9] [0 4 5]\n",
      "[1 2 3 5 7 8 9] [0 4 6]\n",
      "[1 2 3 5 6 8 9] [0 4 7]\n",
      "[1 2 3 5 6 7 9] [0 4 8]\n",
      "[1 2 3 5 6 7 8] [0 4 9]\n",
      "[1 2 3 4 7 8 9] [0 5 6]\n",
      "[1 2 3 4 6 8 9] [0 5 7]\n",
      "[1 2 3 4 6 7 9] [0 5 8]\n",
      "[1 2 3 4 6 7 8] [0 5 9]\n",
      "[1 2 3 4 5 8 9] [0 6 7]\n",
      "[1 2 3 4 5 7 9] [0 6 8]\n",
      "[1 2 3 4 5 7 8] [0 6 9]\n",
      "[1 2 3 4 5 6 9] [0 7 8]\n",
      "[1 2 3 4 5 6 8] [0 7 9]\n",
      "[1 2 3 4 5 6 7] [0 8 9]\n",
      "[0 4 5 6 7 8 9] [1 2 3]\n",
      "[0 3 5 6 7 8 9] [1 2 4]\n",
      "[0 3 4 6 7 8 9] [1 2 5]\n",
      "[0 3 4 5 7 8 9] [1 2 6]\n",
      "[0 3 4 5 6 8 9] [1 2 7]\n",
      "[0 3 4 5 6 7 9] [1 2 8]\n",
      "[0 3 4 5 6 7 8] [1 2 9]\n",
      "[0 2 5 6 7 8 9] [1 3 4]\n",
      "[0 2 4 6 7 8 9] [1 3 5]\n",
      "[0 2 4 5 7 8 9] [1 3 6]\n",
      "[0 2 4 5 6 8 9] [1 3 7]\n",
      "[0 2 4 5 6 7 9] [1 3 8]\n",
      "[0 2 4 5 6 7 8] [1 3 9]\n",
      "[0 2 3 6 7 8 9] [1 4 5]\n",
      "[0 2 3 5 7 8 9] [1 4 6]\n",
      "[0 2 3 5 6 8 9] [1 4 7]\n",
      "[0 2 3 5 6 7 9] [1 4 8]\n",
      "[0 2 3 5 6 7 8] [1 4 9]\n",
      "[0 2 3 4 7 8 9] [1 5 6]\n",
      "[0 2 3 4 6 8 9] [1 5 7]\n",
      "[0 2 3 4 6 7 9] [1 5 8]\n",
      "[0 2 3 4 6 7 8] [1 5 9]\n",
      "[0 2 3 4 5 8 9] [1 6 7]\n",
      "[0 2 3 4 5 7 9] [1 6 8]\n",
      "[0 2 3 4 5 7 8] [1 6 9]\n",
      "[0 2 3 4 5 6 9] [1 7 8]\n",
      "[0 2 3 4 5 6 8] [1 7 9]\n",
      "[0 2 3 4 5 6 7] [1 8 9]\n",
      "[0 1 5 6 7 8 9] [2 3 4]\n",
      "[0 1 4 6 7 8 9] [2 3 5]\n",
      "[0 1 4 5 7 8 9] [2 3 6]\n",
      "[0 1 4 5 6 8 9] [2 3 7]\n",
      "[0 1 4 5 6 7 9] [2 3 8]\n",
      "[0 1 4 5 6 7 8] [2 3 9]\n",
      "[0 1 3 6 7 8 9] [2 4 5]\n",
      "[0 1 3 5 7 8 9] [2 4 6]\n",
      "[0 1 3 5 6 8 9] [2 4 7]\n",
      "[0 1 3 5 6 7 9] [2 4 8]\n",
      "[0 1 3 5 6 7 8] [2 4 9]\n",
      "[0 1 3 4 7 8 9] [2 5 6]\n",
      "[0 1 3 4 6 8 9] [2 5 7]\n",
      "[0 1 3 4 6 7 9] [2 5 8]\n",
      "[0 1 3 4 6 7 8] [2 5 9]\n",
      "[0 1 3 4 5 8 9] [2 6 7]\n",
      "[0 1 3 4 5 7 9] [2 6 8]\n",
      "[0 1 3 4 5 7 8] [2 6 9]\n",
      "[0 1 3 4 5 6 9] [2 7 8]\n",
      "[0 1 3 4 5 6 8] [2 7 9]\n",
      "[0 1 3 4 5 6 7] [2 8 9]\n",
      "[0 1 2 6 7 8 9] [3 4 5]\n",
      "[0 1 2 5 7 8 9] [3 4 6]\n",
      "[0 1 2 5 6 8 9] [3 4 7]\n",
      "[0 1 2 5 6 7 9] [3 4 8]\n",
      "[0 1 2 5 6 7 8] [3 4 9]\n",
      "[0 1 2 4 7 8 9] [3 5 6]\n",
      "[0 1 2 4 6 8 9] [3 5 7]\n",
      "[0 1 2 4 6 7 9] [3 5 8]\n",
      "[0 1 2 4 6 7 8] [3 5 9]\n",
      "[0 1 2 4 5 8 9] [3 6 7]\n",
      "[0 1 2 4 5 7 9] [3 6 8]\n",
      "[0 1 2 4 5 7 8] [3 6 9]\n",
      "[0 1 2 4 5 6 9] [3 7 8]\n",
      "[0 1 2 4 5 6 8] [3 7 9]\n",
      "[0 1 2 4 5 6 7] [3 8 9]\n",
      "[0 1 2 3 7 8 9] [4 5 6]\n",
      "[0 1 2 3 6 8 9] [4 5 7]\n",
      "[0 1 2 3 6 7 9] [4 5 8]\n",
      "[0 1 2 3 6 7 8] [4 5 9]\n",
      "[0 1 2 3 5 8 9] [4 6 7]\n",
      "[0 1 2 3 5 7 9] [4 6 8]\n",
      "[0 1 2 3 5 7 8] [4 6 9]\n",
      "[0 1 2 3 5 6 9] [4 7 8]\n",
      "[0 1 2 3 5 6 8] [4 7 9]\n",
      "[0 1 2 3 5 6 7] [4 8 9]\n",
      "[0 1 2 3 4 8 9] [5 6 7]\n",
      "[0 1 2 3 4 7 9] [5 6 8]\n",
      "[0 1 2 3 4 7 8] [5 6 9]\n",
      "[0 1 2 3 4 6 9] [5 7 8]\n",
      "[0 1 2 3 4 6 8] [5 7 9]\n",
      "[0 1 2 3 4 6 7] [5 8 9]\n",
      "[0 1 2 3 4 5 9] [6 7 8]\n",
      "[0 1 2 3 4 5 8] [6 7 9]\n",
      "[0 1 2 3 4 5 7] [6 8 9]\n",
      "[0 1 2 3 4 5 6] [7 8 9]\n"
     ]
    }
   ],
   "source": [
    "lp=LeavePOut(p=3)\n",
    "for train, test in lp.split(x_n, y_n):\n",
    "    print(train, test)\n",
    "    # [3 4 5 6 7 8 9] training [0 1 2] testing "
   ]
  },
  {
   "cell_type": "markdown",
   "id": "fde2853f-cd57-4d96-87b2-f3c177cee413",
   "metadata": {},
   "source": [
    "# K-Fold\n",
    "Keeps all samples from the same “group” in the same fold (no splitting a group between train and test).\n",
    "\n",
    "Example: If multiple rows belong to the same person, all of that person’s data stays in one fold."
   ]
  },
  {
   "cell_type": "code",
   "execution_count": 27,
   "id": "164b5795-38fd-44b5-b8c4-3321e2ee4604",
   "metadata": {},
   "outputs": [
    {
     "name": "stdout",
     "output_type": "stream",
     "text": [
      "[3 4 5 6 7 8 9] [0 1 2]\n",
      "[0 1 2 6 7 8 9] [3 4 5]\n",
      "[0 1 2 3 4 5 8 9] [6 7]\n",
      "[0 1 2 3 4 5 6 7] [8 9]\n"
     ]
    }
   ],
   "source": [
    "kf=KFold(n_splits=4)\n",
    "for train, test in kf.split(x_n, y_n):\n",
    "    print(train, test)"
   ]
  },
  {
   "cell_type": "markdown",
   "id": "cbc663e9-ed07-4de9-93e2-bf58d6704c33",
   "metadata": {},
   "source": [
    "# Stratified Group K-Fold\n",
    "Use only Classification problems with grouped data.\n",
    "\n",
    "it does'nt work witrh regression analysis"
   ]
  },
  {
   "cell_type": "code",
   "execution_count": 30,
   "id": "c56ac7e6-cdc4-4f90-8376-f417900a822d",
   "metadata": {},
   "outputs": [
    {
     "ename": "ValueError",
     "evalue": "Supported target types are: ('binary', 'multiclass'). Got 'continuous' instead.",
     "output_type": "error",
     "traceback": [
      "\u001b[31m---------------------------------------------------------------------------\u001b[39m",
      "\u001b[31mValueError\u001b[39m                                Traceback (most recent call last)",
      "\u001b[36mCell\u001b[39m\u001b[36m \u001b[39m\u001b[32mIn[30]\u001b[39m\u001b[32m, line 2\u001b[39m\n\u001b[32m      1\u001b[39m skf=StratifiedKFold(n_splits=\u001b[32m5\u001b[39m)\n\u001b[32m----> \u001b[39m\u001b[32m2\u001b[39m \u001b[38;5;28;43;01mfor\u001b[39;49;00m\u001b[43m \u001b[49m\u001b[43mtrain\u001b[49m\u001b[43m,\u001b[49m\u001b[43m \u001b[49m\u001b[43mtest\u001b[49m\u001b[43m \u001b[49m\u001b[38;5;129;43;01min\u001b[39;49;00m\u001b[43m \u001b[49m\u001b[43mskf\u001b[49m\u001b[43m.\u001b[49m\u001b[43msplit\u001b[49m\u001b[43m(\u001b[49m\u001b[43mx_n\u001b[49m\u001b[43m,\u001b[49m\u001b[43m \u001b[49m\u001b[43my_n\u001b[49m\u001b[43m)\u001b[49m\u001b[43m:\u001b[49m\n\u001b[32m      3\u001b[39m \u001b[43m    \u001b[49m\u001b[38;5;28;43mprint\u001b[39;49m\u001b[43m(\u001b[49m\u001b[43mtrain\u001b[49m\u001b[43m,\u001b[49m\u001b[43m \u001b[49m\u001b[43mtest\u001b[49m\u001b[43m)\u001b[49m\n",
      "\u001b[36mFile \u001b[39m\u001b[32m~\\AppData\\Local\\Programs\\Python\\Python312\\Lib\\site-packages\\sklearn\\model_selection\\_split.py:411\u001b[39m, in \u001b[36m_BaseKFold.split\u001b[39m\u001b[34m(self, X, y, groups)\u001b[39m\n\u001b[32m    403\u001b[39m \u001b[38;5;28;01mif\u001b[39;00m \u001b[38;5;28mself\u001b[39m.n_splits > n_samples:\n\u001b[32m    404\u001b[39m     \u001b[38;5;28;01mraise\u001b[39;00m \u001b[38;5;167;01mValueError\u001b[39;00m(\n\u001b[32m    405\u001b[39m         (\n\u001b[32m    406\u001b[39m             \u001b[33m\"\u001b[39m\u001b[33mCannot have number of splits n_splits=\u001b[39m\u001b[38;5;132;01m{0}\u001b[39;00m\u001b[33m greater\u001b[39m\u001b[33m\"\u001b[39m\n\u001b[32m    407\u001b[39m             \u001b[33m\"\u001b[39m\u001b[33m than the number of samples: n_samples=\u001b[39m\u001b[38;5;132;01m{1}\u001b[39;00m\u001b[33m.\u001b[39m\u001b[33m\"\u001b[39m\n\u001b[32m    408\u001b[39m         ).format(\u001b[38;5;28mself\u001b[39m.n_splits, n_samples)\n\u001b[32m    409\u001b[39m     )\n\u001b[32m--> \u001b[39m\u001b[32m411\u001b[39m \u001b[43m\u001b[49m\u001b[38;5;28;43;01mfor\u001b[39;49;00m\u001b[43m \u001b[49m\u001b[43mtrain\u001b[49m\u001b[43m,\u001b[49m\u001b[43m \u001b[49m\u001b[43mtest\u001b[49m\u001b[43m \u001b[49m\u001b[38;5;129;43;01min\u001b[39;49;00m\u001b[43m \u001b[49m\u001b[38;5;28;43msuper\u001b[39;49m\u001b[43m(\u001b[49m\u001b[43m)\u001b[49m\u001b[43m.\u001b[49m\u001b[43msplit\u001b[49m\u001b[43m(\u001b[49m\u001b[43mX\u001b[49m\u001b[43m,\u001b[49m\u001b[43m \u001b[49m\u001b[43my\u001b[49m\u001b[43m,\u001b[49m\u001b[43m \u001b[49m\u001b[43mgroups\u001b[49m\u001b[43m)\u001b[49m\u001b[43m:\u001b[49m\n\u001b[32m    412\u001b[39m \u001b[43m    \u001b[49m\u001b[38;5;28;43;01myield\u001b[39;49;00m\u001b[43m \u001b[49m\u001b[43mtrain\u001b[49m\u001b[43m,\u001b[49m\u001b[43m \u001b[49m\u001b[43mtest\u001b[49m\n",
      "\u001b[36mFile \u001b[39m\u001b[32m~\\AppData\\Local\\Programs\\Python\\Python312\\Lib\\site-packages\\sklearn\\model_selection\\_split.py:142\u001b[39m, in \u001b[36mBaseCrossValidator.split\u001b[39m\u001b[34m(self, X, y, groups)\u001b[39m\n\u001b[32m    140\u001b[39m X, y, groups = indexable(X, y, groups)\n\u001b[32m    141\u001b[39m indices = np.arange(_num_samples(X))\n\u001b[32m--> \u001b[39m\u001b[32m142\u001b[39m \u001b[43m\u001b[49m\u001b[38;5;28;43;01mfor\u001b[39;49;00m\u001b[43m \u001b[49m\u001b[43mtest_index\u001b[49m\u001b[43m \u001b[49m\u001b[38;5;129;43;01min\u001b[39;49;00m\u001b[43m \u001b[49m\u001b[38;5;28;43mself\u001b[39;49m\u001b[43m.\u001b[49m\u001b[43m_iter_test_masks\u001b[49m\u001b[43m(\u001b[49m\u001b[43mX\u001b[49m\u001b[43m,\u001b[49m\u001b[43m \u001b[49m\u001b[43my\u001b[49m\u001b[43m,\u001b[49m\u001b[43m \u001b[49m\u001b[43mgroups\u001b[49m\u001b[43m)\u001b[49m\u001b[43m:\u001b[49m\n\u001b[32m    143\u001b[39m \u001b[43m    \u001b[49m\u001b[43mtrain_index\u001b[49m\u001b[43m \u001b[49m\u001b[43m=\u001b[49m\u001b[43m \u001b[49m\u001b[43mindices\u001b[49m\u001b[43m[\u001b[49m\u001b[43mnp\u001b[49m\u001b[43m.\u001b[49m\u001b[43mlogical_not\u001b[49m\u001b[43m(\u001b[49m\u001b[43mtest_index\u001b[49m\u001b[43m)\u001b[49m\u001b[43m]\u001b[49m\n\u001b[32m    144\u001b[39m \u001b[43m    \u001b[49m\u001b[43mtest_index\u001b[49m\u001b[43m \u001b[49m\u001b[43m=\u001b[49m\u001b[43m \u001b[49m\u001b[43mindices\u001b[49m\u001b[43m[\u001b[49m\u001b[43mtest_index\u001b[49m\u001b[43m]\u001b[49m\n",
      "\u001b[36mFile \u001b[39m\u001b[32m~\\AppData\\Local\\Programs\\Python\\Python312\\Lib\\site-packages\\sklearn\\model_selection\\_split.py:838\u001b[39m, in \u001b[36mStratifiedKFold._iter_test_masks\u001b[39m\u001b[34m(self, X, y, groups)\u001b[39m\n\u001b[32m    837\u001b[39m \u001b[38;5;28;01mdef\u001b[39;00m\u001b[38;5;250m \u001b[39m\u001b[34m_iter_test_masks\u001b[39m(\u001b[38;5;28mself\u001b[39m, X, y=\u001b[38;5;28;01mNone\u001b[39;00m, groups=\u001b[38;5;28;01mNone\u001b[39;00m):\n\u001b[32m--> \u001b[39m\u001b[32m838\u001b[39m     test_folds = \u001b[38;5;28;43mself\u001b[39;49m\u001b[43m.\u001b[49m\u001b[43m_make_test_folds\u001b[49m\u001b[43m(\u001b[49m\u001b[43mX\u001b[49m\u001b[43m,\u001b[49m\u001b[43m \u001b[49m\u001b[43my\u001b[49m\u001b[43m)\u001b[49m\n\u001b[32m    839\u001b[39m     \u001b[38;5;28;01mfor\u001b[39;00m i \u001b[38;5;129;01min\u001b[39;00m \u001b[38;5;28mrange\u001b[39m(\u001b[38;5;28mself\u001b[39m.n_splits):\n\u001b[32m    840\u001b[39m         \u001b[38;5;28;01myield\u001b[39;00m test_folds == i\n",
      "\u001b[36mFile \u001b[39m\u001b[32m~\\AppData\\Local\\Programs\\Python\\Python312\\Lib\\site-packages\\sklearn\\model_selection\\_split.py:781\u001b[39m, in \u001b[36mStratifiedKFold._make_test_folds\u001b[39m\u001b[34m(self, X, y)\u001b[39m\n\u001b[32m    779\u001b[39m allowed_target_types = (\u001b[33m\"\u001b[39m\u001b[33mbinary\u001b[39m\u001b[33m\"\u001b[39m, \u001b[33m\"\u001b[39m\u001b[33mmulticlass\u001b[39m\u001b[33m\"\u001b[39m)\n\u001b[32m    780\u001b[39m \u001b[38;5;28;01mif\u001b[39;00m type_of_target_y \u001b[38;5;129;01mnot\u001b[39;00m \u001b[38;5;129;01min\u001b[39;00m allowed_target_types:\n\u001b[32m--> \u001b[39m\u001b[32m781\u001b[39m     \u001b[38;5;28;01mraise\u001b[39;00m \u001b[38;5;167;01mValueError\u001b[39;00m(\n\u001b[32m    782\u001b[39m         \u001b[33m\"\u001b[39m\u001b[33mSupported target types are: \u001b[39m\u001b[38;5;132;01m{}\u001b[39;00m\u001b[33m. Got \u001b[39m\u001b[38;5;132;01m{!r}\u001b[39;00m\u001b[33m instead.\u001b[39m\u001b[33m\"\u001b[39m.format(\n\u001b[32m    783\u001b[39m             allowed_target_types, type_of_target_y\n\u001b[32m    784\u001b[39m         )\n\u001b[32m    785\u001b[39m     )\n\u001b[32m    787\u001b[39m y = column_or_1d(y)\n\u001b[32m    789\u001b[39m _, y_idx, y_inv = np.unique(y, return_index=\u001b[38;5;28;01mTrue\u001b[39;00m, return_inverse=\u001b[38;5;28;01mTrue\u001b[39;00m)\n",
      "\u001b[31mValueError\u001b[39m: Supported target types are: ('binary', 'multiclass'). Got 'continuous' instead."
     ]
    }
   ],
   "source": [
    "skf=StratifiedKFold(n_splits=5)\n",
    "for train, test in skf.split(x_n, y_n):\n",
    "    print(train, test)"
   ]
  },
  {
   "cell_type": "code",
   "execution_count": null,
   "id": "14fd5fd5-1ab5-4162-9fb3-37f2691ad7ed",
   "metadata": {},
   "outputs": [],
   "source": []
  }
 ],
 "metadata": {
  "kernelspec": {
   "display_name": "Python 3 (ipykernel)",
   "language": "python",
   "name": "python3"
  },
  "language_info": {
   "codemirror_mode": {
    "name": "ipython",
    "version": 3
   },
   "file_extension": ".py",
   "mimetype": "text/x-python",
   "name": "python",
   "nbconvert_exporter": "python",
   "pygments_lexer": "ipython3",
   "version": "3.12.5"
  }
 },
 "nbformat": 4,
 "nbformat_minor": 5
}
