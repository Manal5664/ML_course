{
 "cells": [
  {
   "cell_type": "code",
   "execution_count": 2,
   "id": "ef7fa4b8-aa55-4003-901b-d2b8b729f31c",
   "metadata": {},
   "outputs": [
    {
     "data": {
      "text/plain": [
       "'Manal_Asghar_Cover_Letter.pdf'"
      ]
     },
     "execution_count": 2,
     "metadata": {},
     "output_type": "execute_result"
    }
   ],
   "source": [
    "from reportlab.platypus import SimpleDocTemplate, Paragraph, Spacer\n",
    "from reportlab.lib.styles import getSampleStyleSheet\n",
    "from reportlab.lib.pagesizes import A4\n",
    "\n",
    "# Define the path to save the PDF\n",
    "pdf_path = \"Manal_Asghar_Cover_Letter.pdf\"\n",
    "\n",
    "# Set up the document\n",
    "doc = SimpleDocTemplate(pdf_path, pagesize=A4)\n",
    "styles = getSampleStyleSheet()\n",
    "story = []\n",
    "\n",
    "# Cover letter content\n",
    "cover_letter_lines = [\n",
    "    \"Manal Asghar\",\n",
    "    \"Email: manal.atif2021@gmail.com\",\n",
    "    \"Phone: +92 316 8036790\",\n",
    "    \"LinkedIn: https://www.linkedin.com/in/manal-asghar-967ba62a3/\",\n",
    "    \"\",\n",
    "    \"Dear Symbl.ai Hiring Team,\",\n",
    "    \"\",\n",
    "    \"I am writing to express my interest in the Machine Learning Engineering Intern position on the Nebula LLM team at Symbl.ai. \"\n",
    "    \"With a strong academic background in machine learning and natural language processing, coupled with hands-on experience building ML models and working with conversational data, \"\n",
    "    \"I am excited about the opportunity to contribute to Symbl's cutting-edge language technologies.\",\n",
    "    \"\",\n",
    "    \"Currently pursuing my Master’s in Data Science, I have developed deep proficiency in Python, along with ML frameworks such as scikit-learn. \"\n",
    "    \"I have worked on several end-to-end ML projects, including text classification and sentiment analysis using different datasets. \"\n",
    "    \"\",\n",
    "    \"What excites me most about Symbl.ai is its commitment to developer-first conversational AI and its vision to revolutionize understanding of human communication. \"\n",
    "    \"The opportunity to work on multi-party, multi-modal LLMs and contribute to foundational AI research is exactly the kind of challenge I’m looking for in my career.\",\n",
    "    \"\",\n",
    "    \"I thrive in collaborative, agile environments and am always eager to learn from experienced professionals. I am confident that my technical skills, passion for AI, and ability to quickly adapt make me a strong fit for this internship.\",\n",
    "    \"\",\n",
    "    \"Thank you for considering my application. I’ve attached my resume and included my GitHub profile and LinkedIn for your reference. \"\n",
    "    \"I look forward to the opportunity to contribute to Symbl.ai and learn from your talented team.\",\n",
    "    \"\",\n",
    "    \"Sincerely,\",\n",
    "    \"Manal Asghar\"\n",
    "]\n",
    "\n",
    "# Add content to the PDF\n",
    "for line in cover_letter_lines:\n",
    "    story.append(Paragraph(line, styles[\"Normal\"]))\n",
    "    story.append(Spacer(1, 6))\n",
    "\n",
    "# Build PDF\n",
    "doc.build(story)\n",
    "\n",
    "pdf_path\n"
   ]
  },
  {
   "cell_type": "code",
   "execution_count": 4,
   "id": "91aaee53-b456-44ba-a748-2eb396916cbb",
   "metadata": {},
   "outputs": [
    {
     "name": "stdout",
     "output_type": "stream",
     "text": [
      "Defaulting to user installation because normal site-packages is not writeable\n",
      "Requirement already satisfied: reportlab in c:\\users\\smc\\appdata\\roaming\\python\\python310\\site-packages (4.4.3)\n",
      "Requirement already satisfied: pillow>=9.0.0 in c:\\users\\smc\\appdata\\roaming\\python\\python310\\site-packages (from reportlab) (11.2.1)\n",
      "Requirement already satisfied: charset-normalizer in c:\\users\\smc\\appdata\\roaming\\python\\python310\\site-packages (from reportlab) (3.4.2)\n"
     ]
    }
   ],
   "source": [
    "!pip install reportlab\n"
   ]
  },
  {
   "cell_type": "code",
   "execution_count": 10,
   "id": "34f279f3-2e4f-4324-951d-824b1dcf4e79",
   "metadata": {},
   "outputs": [
    {
     "name": "stdout",
     "output_type": "stream",
     "text": [
      "Collecting reportlab\n",
      "  Using cached reportlab-4.4.3-py3-none-any.whl.metadata (1.7 kB)\n",
      "Requirement already satisfied: pillow>=9.0.0 in c:\\users\\smc\\appdata\\local\\programs\\python\\python312\\lib\\site-packages (from reportlab) (11.2.0)\n",
      "Requirement already satisfied: charset-normalizer in c:\\users\\smc\\appdata\\local\\programs\\python\\python312\\lib\\site-packages (from reportlab) (3.4.1)\n",
      "Using cached reportlab-4.4.3-py3-none-any.whl (2.0 MB)\n",
      "Installing collected packages: reportlab\n",
      "Successfully installed reportlab-4.4.3\n"
     ]
    },
    {
     "name": "stderr",
     "output_type": "stream",
     "text": [
      "\n",
      "[notice] A new release of pip is available: 25.1.1 -> 25.2\n",
      "[notice] To update, run: C:\\Users\\smc\\AppData\\Local\\Programs\\Python\\Python312\\python.exe -m pip install --upgrade pip\n"
     ]
    }
   ],
   "source": [
    "import sys\n",
    "!{sys.executable} -m pip install reportlab\n"
   ]
  },
  {
   "cell_type": "code",
   "execution_count": null,
   "id": "5e2ef862-3867-438c-9e1c-e1280f20382c",
   "metadata": {},
   "outputs": [],
   "source": []
  }
 ],
 "metadata": {
  "kernelspec": {
   "display_name": "Python 3 (ipykernel)",
   "language": "python",
   "name": "python3"
  },
  "language_info": {
   "codemirror_mode": {
    "name": "ipython",
    "version": 3
   },
   "file_extension": ".py",
   "mimetype": "text/x-python",
   "name": "python",
   "nbconvert_exporter": "python",
   "pygments_lexer": "ipython3",
   "version": "3.12.5"
  }
 },
 "nbformat": 4,
 "nbformat_minor": 5
}
