{
 "cells": [
  {
   "cell_type": "code",
   "execution_count": null,
   "id": "1aca8308-6855-4b0d-a25b-1a6a7df8bbe0",
   "metadata": {},
   "outputs": [],
   "source": []
  }
 ],
 "metadata": {
  "kernelspec": {
   "display_name": "",
   "name": ""
  },
  "language_info": {
   "name": ""
  }
 },
 "nbformat": 4,
 "nbformat_minor": 5
}
